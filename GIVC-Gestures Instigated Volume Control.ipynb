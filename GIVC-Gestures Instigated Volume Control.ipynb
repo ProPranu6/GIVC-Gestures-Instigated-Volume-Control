{
 "cells": [
  {
   "cell_type": "code",
   "execution_count": 1,
   "id": "188b0fc5",
   "metadata": {},
   "outputs": [
    {
     "name": "stdout",
     "output_type": "stream",
     "text": [
      "Requirement already satisfied: mediapipe in c:\\users\\t.praneeth\\appdata\\roaming\\python\\python38\\site-packages (0.8.9.1)\n",
      "Requirement already satisfied: protobuf>=3.11.4 in c:\\users\\t.praneeth\\anaconda3\\lib\\site-packages (from mediapipe) (3.17.3)\n",
      "Requirement already satisfied: matplotlib in c:\\users\\t.praneeth\\anaconda3\\lib\\site-packages (from mediapipe) (3.5.2)\n",
      "Requirement already satisfied: absl-py in c:\\users\\t.praneeth\\anaconda3\\lib\\site-packages (from mediapipe) (1.1.0)\n",
      "Requirement already satisfied: attrs>=19.1.0 in c:\\users\\t.praneeth\\anaconda3\\lib\\site-packages (from mediapipe) (20.3.0)\n",
      "Requirement already satisfied: numpy in c:\\users\\t.praneeth\\anaconda3\\lib\\site-packages (from mediapipe) (1.23.0)\n",
      "Requirement already satisfied: opencv-contrib-python in c:\\users\\t.praneeth\\appdata\\roaming\\python\\python38\\site-packages (from mediapipe) (4.5.5.64)\n",
      "Requirement already satisfied: six>=1.9 in c:\\users\\t.praneeth\\anaconda3\\lib\\site-packages (from protobuf>=3.11.4->mediapipe) (1.16.0)\n",
      "Requirement already satisfied: pyparsing>=2.2.1 in c:\\users\\t.praneeth\\anaconda3\\lib\\site-packages (from matplotlib->mediapipe) (3.0.9)\n",
      "Requirement already satisfied: pillow>=6.2.0 in c:\\users\\t.praneeth\\anaconda3\\lib\\site-packages (from matplotlib->mediapipe) (9.3.0)\n",
      "Requirement already satisfied: packaging>=20.0 in c:\\users\\t.praneeth\\anaconda3\\lib\\site-packages (from matplotlib->mediapipe) (21.3)\n",
      "Requirement already satisfied: cycler>=0.10 in c:\\users\\t.praneeth\\anaconda3\\lib\\site-packages (from matplotlib->mediapipe) (0.11.0)\n",
      "Requirement already satisfied: python-dateutil>=2.7 in c:\\users\\t.praneeth\\anaconda3\\lib\\site-packages (from matplotlib->mediapipe) (2.8.2)\n",
      "Requirement already satisfied: kiwisolver>=1.0.1 in c:\\users\\t.praneeth\\anaconda3\\lib\\site-packages (from matplotlib->mediapipe) (1.4.3)\n",
      "Requirement already satisfied: fonttools>=4.22.0 in c:\\users\\t.praneeth\\anaconda3\\lib\\site-packages (from matplotlib->mediapipe) (4.33.3)\n"
     ]
    },
    {
     "name": "stderr",
     "output_type": "stream",
     "text": [
      "The system cannot find the path specified.\n"
     ]
    }
   ],
   "source": [
    "!pip install mediapipe --user"
   ]
  },
  {
   "cell_type": "code",
   "execution_count": 2,
   "id": "2a203bb3",
   "metadata": {},
   "outputs": [],
   "source": [
    "import cv2\n",
    "import mediapipe as mp\n",
    "import time"
   ]
  },
  {
   "cell_type": "code",
   "execution_count": 3,
   "id": "f01b81a0",
   "metadata": {},
   "outputs": [],
   "source": [
    "from ctypes import cast, POINTER\n",
    "from comtypes import CLSCTX_ALL\n",
    "from pycaw.pycaw import AudioUtilities, IAudioEndpointVolume\n",
    "import math\n",
    "import numpy as np"
   ]
  },
  {
   "cell_type": "code",
   "execution_count": null,
   "id": "d935209e",
   "metadata": {},
   "outputs": [],
   "source": [
    "cap = cv2.VideoCapture(0)\n",
    "\n",
    "mpHands = mp.solutions.hands\n",
    "hands = mpHands.Hands(static_image_mode=False,\n",
    "                      max_num_hands=2,\n",
    "                      min_detection_confidence=0.5,\n",
    "                      min_tracking_confidence=0.5)\n",
    "mpDraw = mp.solutions.drawing_utils\n",
    "\n",
    "pTime = 0\n",
    "cTime = 0\n",
    "\n",
    "land_marks = []\n",
    "max_dist = 0\n",
    "min_stay = 0\n",
    "while True:\n",
    "    success, img = cap.read()\n",
    "    imgRGB = cv2.cvtColor(img, cv2.COLOR_BGR2RGB)\n",
    "    results = hands.process(imgRGB)\n",
    "    \n",
    "    if cv2.waitKey(1) == ord('q'):\n",
    "        cap.release()\n",
    "        break\n",
    " \n",
    "    if results.multi_hand_landmarks:\n",
    "        for handLms in results.multi_hand_landmarks:\n",
    "            for idd, lm in enumerate(handLms.landmark):\n",
    "                \n",
    "                h, w, c = img.shape\n",
    "                cx, cy = int(lm.x *w), int(lm.y*h)\n",
    "                #if id ==0:\n",
    "                if idd == 4 or idd == 8:\n",
    "                    land_marks.append((idd, [cx,cy]))\n",
    "                    \n",
    "                cv2.circle(img, (cx,cy), 3, (255,0,255), cv2.FILLED)\n",
    "\n",
    "            mpDraw.draw_landmarks(img, handLms, mpHands.HAND_CONNECTIONS)\n",
    "    try:\n",
    "        x1, y1 = land_marks[-2][1]\n",
    "        x2, y2 = land_marks[-1][1]\n",
    "        dist = ((x2-x1)**2 + (y2-y1)**2)**0.5\n",
    "    except:\n",
    "        pass\n",
    "    \n",
    "    \n",
    "\n",
    "\n",
    "\n",
    "\n",
    "    try:\n",
    "        vol = min(1, round(dist/200, 2))\n",
    "        cv2.putText(img, f\"volume : {vol*100}\", (50, 70),cv2.FONT_HERSHEY_PLAIN, 3, (255,0,255), 3)\n",
    "    \n",
    "        devices = AudioUtilities.GetSpeakers()\n",
    "        interface = devices.Activate(\n",
    "            IAudioEndpointVolume._iid_, CLSCTX_ALL, None)\n",
    "        volume = cast(interface, POINTER(IAudioEndpointVolume))\n",
    " \n",
    "        currentVolumeDb = volume.GetMasterVolumeLevel()\n",
    "        vol_range = volume.GetVolumeRange()\n",
    "        vol = np.interp(vol, [0, 1], [vol_range[0], vol_range[1]]) \n",
    "        volume.SetMasterVolumeLevel(vol, None)\n",
    "    except:\n",
    "        pass\n",
    "    cv2.imshow(\"Image\", img)\n",
    "    cv2.waitKey(1)\n",
    "print(max_dist)"
   ]
  },
  {
   "cell_type": "code",
   "execution_count": null,
   "id": "7a63a8e4",
   "metadata": {},
   "outputs": [],
   "source": [
    "!pip install pycaw"
   ]
  },
  {
   "cell_type": "code",
   "execution_count": 6,
   "id": "4c828794",
   "metadata": {},
   "outputs": [
    {
     "data": {
      "text/plain": [
       "0.0"
      ]
     },
     "execution_count": 6,
     "metadata": {},
     "output_type": "execute_result"
    }
   ],
   "source": [
    "\n",
    "#"
   ]
  },
  {
   "cell_type": "code",
   "execution_count": null,
   "id": "5a0da69c",
   "metadata": {},
   "outputs": [],
   "source": []
  }
 ],
 "metadata": {
  "kernelspec": {
   "display_name": "Python 3",
   "language": "python",
   "name": "python3"
  },
  "language_info": {
   "codemirror_mode": {
    "name": "ipython",
    "version": 3
   },
   "file_extension": ".py",
   "mimetype": "text/x-python",
   "name": "python",
   "nbconvert_exporter": "python",
   "pygments_lexer": "ipython3",
   "version": "3.8.8"
  }
 },
 "nbformat": 4,
 "nbformat_minor": 5
}
